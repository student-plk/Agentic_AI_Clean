{
 "cells": [
  {
   "cell_type": "code",
   "execution_count": null,
   "id": "{your_id}",
   "metadata": {},
   "outputs": [
    {
     "name": "stdout",
     "output_type": "stream",
     "text": [
      "LangChain + Twilio + TTS Voice Caller\n",
      "\n"
     ]
    }
   ],
   "source": [
    "import pyttsx3\n",
    "from twilio.rest import Client\n",
    "from langchain_community.utilities.twilio import TwilioAPIWrapper\n",
    "\n",
    "# ------------------ TEXT-TO-SPEECH FUNCTION ------------------\n",
    "def speak_text(text):\n",
    "    try:\n",
    "        engine = pyttsx3.init()\n",
    "        engine.setProperty('rate', 150)\n",
    "        voices = engine.getProperty('voices')\n",
    "        engine.setProperty('voice', voices[0].id)\n",
    "        print(\"Speaking locally...\")\n",
    "        engine.say(text)\n",
    "        engine.runAndWait()\n",
    "    except Exception as e:\n",
    "        print(\"❌ TTS Error:\", e)\n",
    "\n",
    "# ------------------ TWILIO VOICE CALL FUNCTION ------------------\n",
    "def make_twilio_call(account_sid, auth_token, from_number, to_number, message):\n",
    "    try:\n",
    "        client = Client(account_sid, auth_token)\n",
    "        print(\"📞 Initiating Twilio call...\")\n",
    "\n",
    "        call = client.calls.create(\n",
    "            to=to_number,\n",
    "            from_=from_number,\n",
    "            twiml=f'<Response><Say>{message}</Say></Response>'\n",
    "        )\n",
    "        print(f\"✅ Call initiated! SID: {call.sid}\")\n",
    "    except Exception as e:\n",
    "        print(\"❌ Call failed:\", e)\n",
    "\n",
    "# ------------------ MAIN ------------------\n",
    "if __name__ == \"__main__\":\n",
    "    print(\"LangChain + Twilio + TTS Voice Caller\\n\")\n",
    "\n",
    "    message = input(\"Enter message to speak and call: \")\n",
    "    speak_text(message)\n",
    "\n",
    "    make_call = input(\"Make Twilio voice call with this message? (yes/no): \").lower()\n",
    "    if make_call == \"yes\":\n",
    "        # Use LangChain wrapper for config-style simplicity (just to show usage)\n",
    "        account_sid = input(\"Enter Twilio Account SID: \").strip()\n",
    "        auth_token = input(\"Enter Twilio Auth Token: \").strip()\n",
    "        from_number = input(\"Your Twilio Phone Number (+country code): \").strip()\n",
    "        to_number = input(\"Recipient Phone Number (+country code): \").strip()\n",
    "\n",
    "        # You can still init LangChain's TwilioAPIWrapper if needed\n",
    "        wrapper = TwilioAPIWrapper(\n",
    "            account_sid=account_sid,\n",
    "            auth_token=auth_token,\n",
    "            from_number=from_number\n",
    "        )\n",
    "\n",
    "        make_twilio_call(account_sid, auth_token, from_number, to_number, message)\n",
    "    else:\n",
    "        print(\"Local TTS played only.\")\n"
   ]
  },
  {
   "cell_type": "code",
   "execution_count": null,
   "id": "{your_id}",
   "metadata": {},
   "outputs": [],
   "source": []
  }
 ],
 "metadata": {
  "kernelspec": {
   "display_name": "Python 3 (ipykernel)",
   "language": "python",
   "name": "python3"
  },
  "language_info": {
   "codemirror_mode": {
    "name": "ipython",
    "version": 3
   },
   "file_extension": ".py",
   "mimetype": "text/x-python",
   "name": "python",
   "nbconvert_exporter": "python",
   "pygments_lexer": "ipython3",
   "version": "3.12.7"
  }
 },
 "nbformat": 4,
 "nbformat_minor": 5
}
